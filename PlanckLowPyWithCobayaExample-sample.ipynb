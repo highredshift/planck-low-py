{
 "cells": [
  {
   "cell_type": "markdown",
   "metadata": {},
   "source": [
    "### May 18, 2025\n",
    "\n",
    "This notebook is from Prince+Dunkly 2022, https://journals.aps.org/prd/abstract/10.1103/PhysRevD.105.023518. The arXiv version is not up-to-date.\n",
    "\n",
    "I can run the notebook in full. To do that, I created a kernel \"Cobaya\", using a conda environment. The conda environment has to be created in $PSCRATCH (gpt says my home directory would work too), but not in the project directory: /global/cfs/projectdirs/cosmo/work/users/xhuang/xh-repos\n",
    "\n",
    "`conda create -n cobaya-scratch python=3.10`\n",
    "\n",
    "I then followed gpt instructions:\n",
    "\n",
    "`conda install ipykernel`\n",
    " \n",
    "`python -m ipykernel install --user --name cobaya-scratch --display-name \"Cobaya\"`\n",
    "\n",
    "I then installed cobaya (https://cobaya.readthedocs.io/en/latest/installation.html) \n",
    "\n",
    "`python -m pip install cobaya --upgrade`\n",
    "\n",
    "and then (https://cobaya.readthedocs.io/en/latest/installation_cosmo.html)\n",
    "\n",
    "`cobaya-install cosmo -p /pscratch/sd/x/xshuang/cobaya-cosmo-scratch`\n",
    "\n",
    "In installing the Cobaya `cosmo` package, I ran into trouble with Python 3.11. GPT was right: after creating an environment with 3.10 everything worked.\n",
    "\n",
    "(Previously I created a conda environment (`cobaya-env`) in order to create a kernel in the project directory above, but that didn't work. That's why I created `cobaya-scratch` in $PSCRATCH. `cobaya-env` was then removed.)\n",
    "\n",
    "\n"
   ]
  },
  {
   "cell_type": "markdown",
   "metadata": {},
   "source": [
    "# cobaya example\n",
    "You can run this if you have cobaya installed on your computer (see https://cobaya.readthedocs.io/en/latest/)\n",
    "\n",
    "You will need to set the cobaya_modules_path variable below to wherever the cobaya cosmological codes and likelihoods are installed on your computer\n",
    "\n",
    "This plots a slice the low-ell EE likelihood for different values of tau, and the low-ell TT likelihood for different values of n_s.\n",
    "\n",
    "For more about the model wrapper of cobaya see https://cobaya.readthedocs.io/en/latest/cosmo_model.html"
   ]
  },
  {
   "cell_type": "code",
   "execution_count": 1,
   "metadata": {},
   "outputs": [],
   "source": [
    "# cobaya_modules_path='/Users/heatherp/cobaya-cosmo'\n",
    "\n",
    "cobaya_modules_path='/pscratch/sd/x/xshuang/cobaya-cosmo-scratch'"
   ]
  },
  {
   "cell_type": "code",
   "execution_count": 2,
   "metadata": {},
   "outputs": [],
   "source": [
    "import numpy as np\n",
    "import matplotlib.pyplot as plt\n",
    "\n",
    "from cobaya.model import get_model\n",
    "from cobaya.yaml import yaml_load\n",
    "\n",
    "from cobaya.run import run"
   ]
  },
  {
   "cell_type": "code",
   "execution_count": 3,
   "metadata": {},
   "outputs": [],
   "source": [
    "'''\n",
    "Notes on the ymal file below:\n",
    "\n",
    "- Cl # probably just the spherical harmonics coefficients\n",
    "\n",
    "- requires: {'Cl': {'ee': 29}}  # 29 means l < 30, or the low ell's. For Planck, l < 30 and l >= 30 are treated differently; see Prince thesis.\n",
    "\n",
    "- planck_2018_highl_plik.TTTEEE_lite: null # I don't understand this line.\n",
    "\n",
    "- I added the lines at the end, in order to sample\n",
    "\n",
    "sampler:\n",
    "  mcmc: null\n",
    "\n",
    "- It appears that to run model = get_model(info) below twice will cause error. So everything needs to be defined in this cell.\n",
    "\n",
    "'''\n",
    "\n",
    "\n",
    "info_txt = r'''\n",
    "likelihood:\n",
    "  planck_low_py_EE: \n",
    "      external: import_module('planck_low_py').planck_lowE_binned_loglike_cobaya\n",
    "      requires: {'Cl': {'ee': 29}}\n",
    "  planck_low_py_TT: \n",
    "      external: import_module('planck_low_py').planck_lowT_binned_loglike_cobaya\n",
    "      requires: {'Cl': {'tt': 29}}\n",
    "  planck_2018_highl_plik.TTTEEE_lite: null\n",
    "params:\n",
    "  # fixed\n",
    "  H0: 67\n",
    "  ombh2: 0.022\n",
    "  omch2: 0.12\n",
    "  # sampled\n",
    "  As:\n",
    "    prior:\n",
    "      min: 1e-9\n",
    "      max: 6e-9\n",
    "  ns:\n",
    "    prior:\n",
    "      min: 0.8\n",
    "      max: 1.2\n",
    "  tau:\n",
    "    prior:\n",
    "      min: 0.005\n",
    "      max: 0.8\n",
    "theory:\n",
    "  camb:\n",
    "\n",
    "sampler:\n",
    "  mcmc: null\n",
    "'''"
   ]
  },
  {
   "cell_type": "code",
   "execution_count": 4,
   "metadata": {},
   "outputs": [
    {
     "name": "stdout",
     "output_type": "stream",
     "text": [
      "[model] *WARNING* Ignored blocks/options: ['sampler', 'modules', 'output']\n",
      "[camb] `camb` module loaded successfully from /pscratch/sd/x/xshuang/cobaya-cosmo-scratch/code/CAMB/camb\n",
      "[planck_low_py_ee] Initialized external likelihood.\n",
      "[planck_low_py_tt] Initialized external likelihood.\n",
      "[planck_2018_highl_plik.ttteee_lite] `clik` module loaded successfully from /pscratch/sd/x/xshuang/cobaya-cosmo-scratch/code/planck/clik-main/lib/python/site-packages/clik\n",
      " Initializing Planck likelihood, version Plik_v22_cmbonly_like                                                                                                                                                                                                                                                                                                                                                                                                                                                                                               \n"
     ]
    }
   ],
   "source": [
    "info = yaml_load(info_txt)\n",
    "info['modules'] = cobaya_modules_path\n",
    "\n",
    "# Set the output path for chains (adjust as needed)\n",
    "# output_path = \"/global/cfs/projectdirs/cosmo/work/users/xhuang/xh-repos/planck-low-py/output\"\n",
    "\n",
    "output_path = \"/pscratch/sd/x/xshuang/repos/planck-low-py/output_w0wa_test5\"\n",
    "\n",
    "\n",
    "# Add to your info dict:\n",
    "info[\"output\"] = output_path\n",
    "\n",
    "# it appears that to run this a second time will cause error\n",
    "model = get_model(info)"
   ]
  },
  {
   "cell_type": "code",
   "execution_count": 5,
   "metadata": {},
   "outputs": [
    {
     "name": "stdout",
     "output_type": "stream",
     "text": [
      "[output] Output to be read-from/written-into folder '/pscratch/sd/x/xshuang/repos/planck-low-py', with prefix 'output_w0wa_test5'\n",
      "[camb] `camb` module loaded successfully from /pscratch/sd/x/xshuang/cobaya-cosmo-scratch/code/CAMB/camb\n",
      "[planck_low_py_ee] Initialized external likelihood.\n",
      "[planck_low_py_tt] Initialized external likelihood.\n",
      "[planck_2018_highl_plik.ttteee_lite] `clik` module loaded successfully from /pscratch/sd/x/xshuang/cobaya-cosmo-scratch/code/planck/clik-main/lib/python/site-packages/clik\n",
      "[planck_2018_highl_plik.ttteee_lite] *ERROR* An unexpected error occurred in clik (possibly related to multiple simultaneous initialization, or simultaneous initialization of incompatible likelihoods; e.g. polarised vs non-polarised 'lite' likelihoods. See error info below:\n"
     ]
    },
    {
     "ename": "CError",
     "evalue": "clik_init(../src/clik.c:48)::ForwardError\n  clik_init_with_options(../src/clik.c:89)::ForwardError\n    clik_lklobject_init_with_options(../src/clik_helper.c:240)::ForwardError\n      clik_plik_cmbonly_init(../src/cmbonly/clik_cmbonly.c:48)::Error -100 (plik_cmbonly already initialized)",
     "output_type": "error",
     "traceback": [
      "\u001b[0;31m---------------------------------------------------------------------------\u001b[0m",
      "\u001b[0;31mCError\u001b[0m                                    Traceback (most recent call last)",
      "Cell \u001b[0;32mIn[5], line 3\u001b[0m\n\u001b[1;32m      1\u001b[0m \u001b[38;5;66;03m# Run Cobaya\u001b[39;00m\n\u001b[1;32m      2\u001b[0m \u001b[38;5;66;03m# info[\"sampler\"] = {\"mcmc\": None}\u001b[39;00m\n\u001b[0;32m----> 3\u001b[0m updated_info, sampler \u001b[38;5;241m=\u001b[39m \u001b[43mrun\u001b[49m\u001b[43m(\u001b[49m\u001b[43minfo\u001b[49m\u001b[43m)\u001b[49m\n",
      "File \u001b[0;32m~/.conda/envs/cobaya-scratch/lib/python3.10/site-packages/cobaya/run.py:123\u001b[0m, in \u001b[0;36mrun\u001b[0;34m(info_or_yaml_or_file, packages_path, output, debug, stop_at_error, resume, force, minimize, no_mpi, test, override, allow_changes)\u001b[0m\n\u001b[1;32m    120\u001b[0m sampler_class\u001b[38;5;241m.\u001b[39mcheck_force_resume(\n\u001b[1;32m    121\u001b[0m     out, info\u001b[38;5;241m=\u001b[39mupdated_info[\u001b[38;5;124m\"\u001b[39m\u001b[38;5;124msampler\u001b[39m\u001b[38;5;124m\"\u001b[39m][sampler_name])\n\u001b[1;32m    122\u001b[0m \u001b[38;5;66;03m# 4. Initialize the posterior and the sampler\u001b[39;00m\n\u001b[0;32m--> 123\u001b[0m \u001b[38;5;28;01mwith\u001b[39;00m \u001b[43mModel\u001b[49m\u001b[43m(\u001b[49m\u001b[43mupdated_info\u001b[49m\u001b[43m[\u001b[49m\u001b[38;5;124;43m\"\u001b[39;49m\u001b[38;5;124;43mparams\u001b[39;49m\u001b[38;5;124;43m\"\u001b[39;49m\u001b[43m]\u001b[49m\u001b[43m,\u001b[49m\u001b[43m \u001b[49m\u001b[43mupdated_info\u001b[49m\u001b[43m[\u001b[49m\u001b[38;5;124;43m\"\u001b[39;49m\u001b[38;5;124;43mlikelihood\u001b[39;49m\u001b[38;5;124;43m\"\u001b[39;49m\u001b[43m]\u001b[49m\u001b[43m,\u001b[49m\n\u001b[1;32m    124\u001b[0m \u001b[43m           \u001b[49m\u001b[43mupdated_info\u001b[49m\u001b[38;5;241;43m.\u001b[39;49m\u001b[43mget\u001b[49m\u001b[43m(\u001b[49m\u001b[38;5;124;43m\"\u001b[39;49m\u001b[38;5;124;43mprior\u001b[39;49m\u001b[38;5;124;43m\"\u001b[39;49m\u001b[43m)\u001b[49m\u001b[43m,\u001b[49m\u001b[43m \u001b[49m\u001b[43mupdated_info\u001b[49m\u001b[38;5;241;43m.\u001b[39;49m\u001b[43mget\u001b[49m\u001b[43m(\u001b[49m\u001b[38;5;124;43m\"\u001b[39;49m\u001b[38;5;124;43mtheory\u001b[39;49m\u001b[38;5;124;43m\"\u001b[39;49m\u001b[43m)\u001b[49m\u001b[43m,\u001b[49m\n\u001b[1;32m    125\u001b[0m \u001b[43m           \u001b[49m\u001b[43mpackages_path\u001b[49m\u001b[38;5;241;43m=\u001b[39;49m\u001b[43minfo\u001b[49m\u001b[38;5;241;43m.\u001b[39;49m\u001b[43mget\u001b[49m\u001b[43m(\u001b[49m\u001b[38;5;124;43m\"\u001b[39;49m\u001b[38;5;124;43mpackages_path\u001b[39;49m\u001b[38;5;124;43m\"\u001b[39;49m\u001b[43m)\u001b[49m\u001b[43m,\u001b[49m\n\u001b[1;32m    126\u001b[0m \u001b[43m           \u001b[49m\u001b[43mtiming\u001b[49m\u001b[38;5;241;43m=\u001b[39;49m\u001b[43mupdated_info\u001b[49m\u001b[38;5;241;43m.\u001b[39;49m\u001b[43mget\u001b[49m\u001b[43m(\u001b[49m\u001b[38;5;124;43m\"\u001b[39;49m\u001b[38;5;124;43mtiming\u001b[39;49m\u001b[38;5;124;43m\"\u001b[39;49m\u001b[43m)\u001b[49m\u001b[43m,\u001b[49m\n\u001b[1;32m    127\u001b[0m \u001b[43m           \u001b[49m\u001b[43mallow_renames\u001b[49m\u001b[38;5;241;43m=\u001b[39;49m\u001b[38;5;28;43;01mFalse\u001b[39;49;00m\u001b[43m,\u001b[49m\n\u001b[1;32m    128\u001b[0m \u001b[43m           \u001b[49m\u001b[43mstop_at_error\u001b[49m\u001b[38;5;241;43m=\u001b[39;49m\u001b[43minfo\u001b[49m\u001b[38;5;241;43m.\u001b[39;49m\u001b[43mget\u001b[49m\u001b[43m(\u001b[49m\u001b[38;5;124;43m\"\u001b[39;49m\u001b[38;5;124;43mstop_at_error\u001b[39;49m\u001b[38;5;124;43m\"\u001b[39;49m\u001b[43m,\u001b[49m\u001b[43m \u001b[49m\u001b[38;5;28;43;01mFalse\u001b[39;49;00m\u001b[43m)\u001b[49m\u001b[43m)\u001b[49m \u001b[38;5;28;01mas\u001b[39;00m model:\n\u001b[1;32m    129\u001b[0m     \u001b[38;5;66;03m# Re-dump the updated info, now containing parameter routes and version\u001b[39;00m\n\u001b[1;32m    130\u001b[0m     updated_info \u001b[38;5;241m=\u001b[39m recursive_update(updated_info, model\u001b[38;5;241m.\u001b[39minfo())\n\u001b[1;32m    131\u001b[0m     out\u001b[38;5;241m.\u001b[39mcheck_and_dump_info(\u001b[38;5;28;01mNone\u001b[39;00m, updated_info, check_compatible\u001b[38;5;241m=\u001b[39m\u001b[38;5;28;01mFalse\u001b[39;00m)\n",
      "File \u001b[0;32m~/.conda/envs/cobaya-scratch/lib/python3.10/site-packages/cobaya/model.py:247\u001b[0m, in \u001b[0;36mModel.__init__\u001b[0;34m(self, info_params, info_likelihood, info_prior, info_theory, packages_path, timing, allow_renames, stop_at_error, post, skip_unused_theories, dropped_theory_params)\u001b[0m\n\u001b[1;32m    244\u001b[0m \u001b[38;5;28mself\u001b[39m\u001b[38;5;241m.\u001b[39mtheory \u001b[38;5;241m=\u001b[39m TheoryCollection(info_theory \u001b[38;5;129;01mor\u001b[39;00m {}, packages_path\u001b[38;5;241m=\u001b[39mpackages_path,\n\u001b[1;32m    245\u001b[0m                                timing\u001b[38;5;241m=\u001b[39mtiming)\n\u001b[1;32m    246\u001b[0m info_likelihood \u001b[38;5;241m=\u001b[39m \u001b[38;5;28mself\u001b[39m\u001b[38;5;241m.\u001b[39m_updated_info[\u001b[38;5;124m\"\u001b[39m\u001b[38;5;124mlikelihood\u001b[39m\u001b[38;5;124m\"\u001b[39m]\n\u001b[0;32m--> 247\u001b[0m \u001b[38;5;28mself\u001b[39m\u001b[38;5;241m.\u001b[39mlikelihood \u001b[38;5;241m=\u001b[39m \u001b[43mLikelihoodCollection\u001b[49m\u001b[43m(\u001b[49m\u001b[43minfo_likelihood\u001b[49m\u001b[43m,\u001b[49m\u001b[43m \u001b[49m\u001b[43mtheory\u001b[49m\u001b[38;5;241;43m=\u001b[39;49m\u001b[38;5;28;43mself\u001b[39;49m\u001b[38;5;241;43m.\u001b[39;49m\u001b[43mtheory\u001b[49m\u001b[43m,\u001b[49m\n\u001b[1;32m    248\u001b[0m \u001b[43m                                       \u001b[49m\u001b[43mpackages_path\u001b[49m\u001b[38;5;241;43m=\u001b[39;49m\u001b[43mpackages_path\u001b[49m\u001b[43m,\u001b[49m\u001b[43m \u001b[49m\u001b[43mtiming\u001b[49m\u001b[38;5;241;43m=\u001b[39;49m\u001b[43mtiming\u001b[49m\u001b[43m)\u001b[49m\n\u001b[1;32m    249\u001b[0m \u001b[38;5;28;01mif\u001b[39;00m stop_at_error:\n\u001b[1;32m    250\u001b[0m     \u001b[38;5;28;01mfor\u001b[39;00m component \u001b[38;5;129;01min\u001b[39;00m \u001b[38;5;28mself\u001b[39m\u001b[38;5;241m.\u001b[39mcomponents:\n",
      "File \u001b[0;32m~/.conda/envs/cobaya-scratch/lib/python3.10/site-packages/cobaya/likelihood.py:276\u001b[0m, in \u001b[0;36mLikelihoodCollection.__init__\u001b[0;34m(self, info_likelihood, packages_path, timing, theory)\u001b[0m\n\u001b[1;32m    271\u001b[0m     \u001b[38;5;28;01massert\u001b[39;00m \u001b[38;5;28misinstance\u001b[39m(info, Mapping)\n\u001b[1;32m    272\u001b[0m     like_class: \u001b[38;5;28mtype\u001b[39m \u001b[38;5;241m=\u001b[39m get_component_class(\n\u001b[1;32m    273\u001b[0m         name, kind\u001b[38;5;241m=\u001b[39m\u001b[38;5;124m\"\u001b[39m\u001b[38;5;124mlikelihood\u001b[39m\u001b[38;5;124m\"\u001b[39m,\n\u001b[1;32m    274\u001b[0m         component_path\u001b[38;5;241m=\u001b[39minfo\u001b[38;5;241m.\u001b[39mget(\u001b[38;5;124m\"\u001b[39m\u001b[38;5;124mpython_path\u001b[39m\u001b[38;5;124m\"\u001b[39m),\n\u001b[1;32m    275\u001b[0m         class_name\u001b[38;5;241m=\u001b[39minfo\u001b[38;5;241m.\u001b[39mget(\u001b[38;5;124m\"\u001b[39m\u001b[38;5;124mclass\u001b[39m\u001b[38;5;124m\"\u001b[39m), logger\u001b[38;5;241m=\u001b[39m\u001b[38;5;28mself\u001b[39m\u001b[38;5;241m.\u001b[39mlog)\n\u001b[0;32m--> 276\u001b[0m     \u001b[38;5;28mself\u001b[39m\u001b[38;5;241m.\u001b[39madd_instance(name, \u001b[43mlike_class\u001b[49m\u001b[43m(\u001b[49m\u001b[43minfo\u001b[49m\u001b[43m,\u001b[49m\u001b[43m \u001b[49m\u001b[43mpackages_path\u001b[49m\u001b[38;5;241;43m=\u001b[39;49m\u001b[43mpackages_path\u001b[49m\u001b[43m,\u001b[49m\n\u001b[1;32m    277\u001b[0m \u001b[43m                                       \u001b[49m\u001b[43mtiming\u001b[49m\u001b[38;5;241;43m=\u001b[39;49m\u001b[43mtiming\u001b[49m\u001b[43m,\u001b[49m\u001b[43m \u001b[49m\u001b[43mstandalone\u001b[49m\u001b[38;5;241;43m=\u001b[39;49m\u001b[38;5;28;43;01mFalse\u001b[39;49;00m\u001b[43m,\u001b[49m\n\u001b[1;32m    278\u001b[0m \u001b[43m                                       \u001b[49m\u001b[43mname\u001b[49m\u001b[38;5;241;43m=\u001b[39;49m\u001b[43mname\u001b[49m\u001b[43m)\u001b[49m)\n\u001b[1;32m    280\u001b[0m \u001b[38;5;28;01mif\u001b[39;00m \u001b[38;5;129;01mnot\u001b[39;00m is_LikelihoodInterface(\u001b[38;5;28mself\u001b[39m[name]):\n\u001b[1;32m    281\u001b[0m     \u001b[38;5;28;01mraise\u001b[39;00m LoggedError(\u001b[38;5;28mself\u001b[39m\u001b[38;5;241m.\u001b[39mlog, \u001b[38;5;124m\"\u001b[39m\u001b[38;5;124m'\u001b[39m\u001b[38;5;124mLikelihood\u001b[39m\u001b[38;5;124m'\u001b[39m\u001b[38;5;124m \u001b[39m\u001b[38;5;132;01m%s\u001b[39;00m\u001b[38;5;124m is not actually a \u001b[39m\u001b[38;5;124m\"\u001b[39m\n\u001b[1;32m    282\u001b[0m                                 \u001b[38;5;124m\"\u001b[39m\u001b[38;5;124mlikelihood (no current_logp attribute)\u001b[39m\u001b[38;5;124m\"\u001b[39m,\n\u001b[1;32m    283\u001b[0m                       name)\n",
      "File \u001b[0;32m~/.conda/envs/cobaya-scratch/lib/python3.10/site-packages/cobaya/likelihood.py:94\u001b[0m, in \u001b[0;36mLikelihood.__init__\u001b[0;34m(self, info, name, timing, packages_path, initialize, standalone)\u001b[0m\n\u001b[1;32m     88\u001b[0m \u001b[38;5;28;01mdef\u001b[39;00m\u001b[38;5;250m \u001b[39m\u001b[38;5;21m__init__\u001b[39m(\u001b[38;5;28mself\u001b[39m, info: LikeDictIn \u001b[38;5;241m=\u001b[39m empty_dict,\n\u001b[1;32m     89\u001b[0m              name: Optional[\u001b[38;5;28mstr\u001b[39m] \u001b[38;5;241m=\u001b[39m \u001b[38;5;28;01mNone\u001b[39;00m,\n\u001b[1;32m     90\u001b[0m              timing: Optional[\u001b[38;5;28mbool\u001b[39m] \u001b[38;5;241m=\u001b[39m \u001b[38;5;28;01mNone\u001b[39;00m,\n\u001b[1;32m     91\u001b[0m              packages_path: Optional[\u001b[38;5;28mstr\u001b[39m] \u001b[38;5;241m=\u001b[39m \u001b[38;5;28;01mNone\u001b[39;00m,\n\u001b[1;32m     92\u001b[0m              initialize\u001b[38;5;241m=\u001b[39m\u001b[38;5;28;01mTrue\u001b[39;00m, standalone\u001b[38;5;241m=\u001b[39m\u001b[38;5;28;01mTrue\u001b[39;00m):\n\u001b[1;32m     93\u001b[0m     \u001b[38;5;28mself\u001b[39m\u001b[38;5;241m.\u001b[39mdelay \u001b[38;5;241m=\u001b[39m \u001b[38;5;241m0\u001b[39m\n\u001b[0;32m---> 94\u001b[0m     \u001b[38;5;28;43msuper\u001b[39;49m\u001b[43m(\u001b[49m\u001b[43m)\u001b[49m\u001b[38;5;241;43m.\u001b[39;49m\u001b[38;5;21;43m__init__\u001b[39;49m\u001b[43m(\u001b[49m\u001b[43minfo\u001b[49m\u001b[43m,\u001b[49m\u001b[43m \u001b[49m\u001b[43mname\u001b[49m\u001b[38;5;241;43m=\u001b[39;49m\u001b[43mname\u001b[49m\u001b[43m,\u001b[49m\u001b[43m \u001b[49m\u001b[43mtiming\u001b[49m\u001b[38;5;241;43m=\u001b[39;49m\u001b[43mtiming\u001b[49m\u001b[43m,\u001b[49m\n\u001b[1;32m     95\u001b[0m \u001b[43m                     \u001b[49m\u001b[43mpackages_path\u001b[49m\u001b[38;5;241;43m=\u001b[39;49m\u001b[43mpackages_path\u001b[49m\u001b[43m,\u001b[49m\u001b[43m \u001b[49m\u001b[43minitialize\u001b[49m\u001b[38;5;241;43m=\u001b[39;49m\u001b[43minitialize\u001b[49m\u001b[43m,\u001b[49m\n\u001b[1;32m     96\u001b[0m \u001b[43m                     \u001b[49m\u001b[43mstandalone\u001b[49m\u001b[38;5;241;43m=\u001b[39;49m\u001b[43mstandalone\u001b[49m\u001b[43m)\u001b[49m\n",
      "File \u001b[0;32m~/.conda/envs/cobaya-scratch/lib/python3.10/site-packages/cobaya/theory.py:65\u001b[0m, in \u001b[0;36mTheory.__init__\u001b[0;34m(self, info, name, timing, packages_path, initialize, standalone)\u001b[0m\n\u001b[1;32m     59\u001b[0m \u001b[38;5;28;01mdef\u001b[39;00m\u001b[38;5;250m \u001b[39m\u001b[38;5;21m__init__\u001b[39m(\u001b[38;5;28mself\u001b[39m, info: TheoryDictIn \u001b[38;5;241m=\u001b[39m empty_dict,\n\u001b[1;32m     60\u001b[0m              name: Optional[\u001b[38;5;28mstr\u001b[39m] \u001b[38;5;241m=\u001b[39m \u001b[38;5;28;01mNone\u001b[39;00m, timing: Optional[\u001b[38;5;28mbool\u001b[39m] \u001b[38;5;241m=\u001b[39m \u001b[38;5;28;01mNone\u001b[39;00m,\n\u001b[1;32m     61\u001b[0m              packages_path: Optional[\u001b[38;5;28mstr\u001b[39m] \u001b[38;5;241m=\u001b[39m \u001b[38;5;28;01mNone\u001b[39;00m,\n\u001b[1;32m     62\u001b[0m              initialize\u001b[38;5;241m=\u001b[39m\u001b[38;5;28;01mTrue\u001b[39;00m, standalone\u001b[38;5;241m=\u001b[39m\u001b[38;5;28;01mTrue\u001b[39;00m):\n\u001b[1;32m     64\u001b[0m     \u001b[38;5;28mself\u001b[39m\u001b[38;5;241m.\u001b[39m_measured_speed \u001b[38;5;241m=\u001b[39m \u001b[38;5;28;01mNone\u001b[39;00m\n\u001b[0;32m---> 65\u001b[0m     \u001b[38;5;28;43msuper\u001b[39;49m\u001b[43m(\u001b[49m\u001b[43m)\u001b[49m\u001b[38;5;241;43m.\u001b[39;49m\u001b[38;5;21;43m__init__\u001b[39;49m\u001b[43m(\u001b[49m\u001b[43minfo\u001b[49m\u001b[43m,\u001b[49m\u001b[43m \u001b[49m\u001b[43mname\u001b[49m\u001b[38;5;241;43m=\u001b[39;49m\u001b[43mname\u001b[49m\u001b[43m,\u001b[49m\u001b[43m \u001b[49m\u001b[43mtiming\u001b[49m\u001b[38;5;241;43m=\u001b[39;49m\u001b[43mtiming\u001b[49m\u001b[43m,\u001b[49m\n\u001b[1;32m     66\u001b[0m \u001b[43m                     \u001b[49m\u001b[43mpackages_path\u001b[49m\u001b[38;5;241;43m=\u001b[39;49m\u001b[43mpackages_path\u001b[49m\u001b[43m,\u001b[49m\u001b[43m \u001b[49m\u001b[43minitialize\u001b[49m\u001b[38;5;241;43m=\u001b[39;49m\u001b[43minitialize\u001b[49m\u001b[43m,\u001b[49m\n\u001b[1;32m     67\u001b[0m \u001b[43m                     \u001b[49m\u001b[43mstandalone\u001b[49m\u001b[38;5;241;43m=\u001b[39;49m\u001b[43mstandalone\u001b[49m\u001b[43m)\u001b[49m\n\u001b[1;32m     69\u001b[0m     \u001b[38;5;66;03m# set to Provider instance before calculations\u001b[39;00m\n\u001b[1;32m     70\u001b[0m     \u001b[38;5;28mself\u001b[39m\u001b[38;5;241m.\u001b[39mprovider: Optional[\u001b[38;5;124m'\u001b[39m\u001b[38;5;124mProvider\u001b[39m\u001b[38;5;124m'\u001b[39m] \u001b[38;5;241m=\u001b[39m \u001b[38;5;28;01mNone\u001b[39;00m\n",
      "File \u001b[0;32m~/.conda/envs/cobaya-scratch/lib/python3.10/site-packages/cobaya/component.py:367\u001b[0m, in \u001b[0;36mCobayaComponent.__init__\u001b[0;34m(self, info, name, timing, packages_path, initialize, standalone)\u001b[0m\n\u001b[1;32m    365\u001b[0m \u001b[38;5;28;01mtry\u001b[39;00m:\n\u001b[1;32m    366\u001b[0m     \u001b[38;5;28;01mif\u001b[39;00m initialize:\n\u001b[0;32m--> 367\u001b[0m         \u001b[38;5;28;43mself\u001b[39;49m\u001b[38;5;241;43m.\u001b[39;49m\u001b[43minitialize\u001b[49m\u001b[43m(\u001b[49m\u001b[43m)\u001b[49m\n\u001b[1;32m    368\u001b[0m \u001b[38;5;28;01mexcept\u001b[39;00m \u001b[38;5;167;01mAttributeError\u001b[39;00m \u001b[38;5;28;01mas\u001b[39;00m e:\n\u001b[1;32m    369\u001b[0m     \u001b[38;5;28;01mif\u001b[39;00m \u001b[38;5;124m'\u001b[39m\u001b[38;5;124m_params\u001b[39m\u001b[38;5;124m'\u001b[39m \u001b[38;5;129;01min\u001b[39;00m \u001b[38;5;28mstr\u001b[39m(e):\n",
      "File \u001b[0;32m~/.conda/envs/cobaya-scratch/lib/python3.10/site-packages/cobaya/likelihoods/base_classes/planck_clik.py:76\u001b[0m, in \u001b[0;36mPlanckClik.initialize\u001b[0;34m(self)\u001b[0m\n\u001b[1;32m     73\u001b[0m \u001b[38;5;28mself\u001b[39m\u001b[38;5;241m.\u001b[39mlensing \u001b[38;5;241m=\u001b[39m clik\u001b[38;5;241m.\u001b[39mtry_lensing(\u001b[38;5;28mself\u001b[39m\u001b[38;5;241m.\u001b[39mclik_file)\n\u001b[1;32m     74\u001b[0m \u001b[38;5;28;01mtry\u001b[39;00m:\n\u001b[1;32m     75\u001b[0m     \u001b[38;5;28mself\u001b[39m\u001b[38;5;241m.\u001b[39mclik \u001b[38;5;241m=\u001b[39m clik\u001b[38;5;241m.\u001b[39mclik_lensing(\u001b[38;5;28mself\u001b[39m\u001b[38;5;241m.\u001b[39mclik_file) \u001b[38;5;28;01mif\u001b[39;00m \u001b[38;5;28mself\u001b[39m\u001b[38;5;241m.\u001b[39mlensing \\\n\u001b[0;32m---> 76\u001b[0m         \u001b[38;5;28;01melse\u001b[39;00m \u001b[43mclik\u001b[49m\u001b[38;5;241;43m.\u001b[39;49m\u001b[43mclik\u001b[49m\u001b[43m(\u001b[49m\u001b[38;5;28;43mself\u001b[39;49m\u001b[38;5;241;43m.\u001b[39;49m\u001b[43mclik_file\u001b[49m\u001b[43m)\u001b[49m\n\u001b[1;32m     77\u001b[0m \u001b[38;5;28;01mexcept\u001b[39;00m clik\u001b[38;5;241m.\u001b[39mlkl\u001b[38;5;241m.\u001b[39mCError:\n\u001b[1;32m     78\u001b[0m     \u001b[38;5;66;03m# Is it that the file was not found?\u001b[39;00m\n\u001b[1;32m     79\u001b[0m     \u001b[38;5;28;01mif\u001b[39;00m \u001b[38;5;129;01mnot\u001b[39;00m os\u001b[38;5;241m.\u001b[39mpath\u001b[38;5;241m.\u001b[39mexists(\u001b[38;5;28mself\u001b[39m\u001b[38;5;241m.\u001b[39mclik_file):\n",
      "File \u001b[0;32mclik/lkl.pyx:123\u001b[0m, in \u001b[0;36mclik.lkl.clik.__init__\u001b[0;34m()\u001b[0m\n",
      "\u001b[0;31mCError\u001b[0m: clik_init(../src/clik.c:48)::ForwardError\n  clik_init_with_options(../src/clik.c:89)::ForwardError\n    clik_lklobject_init_with_options(../src/clik_helper.c:240)::ForwardError\n      clik_plik_cmbonly_init(../src/cmbonly/clik_cmbonly.c:48)::Error -100 (plik_cmbonly already initialized)"
     ]
    }
   ],
   "source": [
    "# Run Cobaya\n",
    "# info[\"sampler\"] = {\"mcmc\": None}\n",
    "updated_info, sampler = run(info)\n"
   ]
  }
 ],
 "metadata": {
  "kernelspec": {
   "display_name": "Cobaya",
   "language": "python",
   "name": "cobaya-scratch"
  },
  "language_info": {
   "codemirror_mode": {
    "name": "ipython",
    "version": 3
   },
   "file_extension": ".py",
   "mimetype": "text/x-python",
   "name": "python",
   "nbconvert_exporter": "python",
   "pygments_lexer": "ipython3",
   "version": "3.10.17"
  }
 },
 "nbformat": 4,
 "nbformat_minor": 4
}
